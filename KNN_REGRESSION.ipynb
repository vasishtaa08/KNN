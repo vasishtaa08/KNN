{
  "nbformat": 4,
  "nbformat_minor": 0,
  "metadata": {
    "colab": {
      "provenance": [],
      "mount_file_id": "1tMrU_ZTJEkd-agSO-93MQu-Rqx590euo",
      "authorship_tag": "ABX9TyP6u6om13D+JxaF/BbQNC/t",
      "include_colab_link": true
    },
    "kernelspec": {
      "name": "python3",
      "display_name": "Python 3"
    },
    "language_info": {
      "name": "python"
    }
  },
  "cells": [
    {
      "cell_type": "markdown",
      "metadata": {
        "id": "view-in-github",
        "colab_type": "text"
      },
      "source": [
        "<a href=\"https://colab.research.google.com/github/vasishtaa08/KNN/blob/main/KNN_REGRESSION.ipynb\" target=\"_parent\"><img src=\"https://colab.research.google.com/assets/colab-badge.svg\" alt=\"Open In Colab\"/></a>"
      ]
    },
    {
      "cell_type": "markdown",
      "source": [
        "#Importing Required Libraries"
      ],
      "metadata": {
        "id": "NzEWnQ-F6Ith"
      }
    },
    {
      "cell_type": "code",
      "source": [
        "import pandas as pd\n",
        "import numpy as np\n",
        "from sklearn.model_selection import train_test_split\n",
        "from sklearn.neighbors import KNeighborsRegressor\n",
        "from sklearn.impute import SimpleImputer\n",
        "from sklearn.metrics import mean_squared_error\n",
        "from sklearn.metrics import mean_squared_error, r2_score\n",
        "import matplotlib.pyplot as plt"
      ],
      "metadata": {
        "id": "ahW93xK5_F12"
      },
      "execution_count": null,
      "outputs": []
    },
    {
      "cell_type": "code",
      "source": [],
      "metadata": {
        "id": "FJ3JtqjIV4GQ"
      },
      "execution_count": null,
      "outputs": []
    },
    {
      "cell_type": "markdown",
      "source": [
        "# IMPORTING DATASET AND UNDERSTANDING IT'S DISTRIBUTION"
      ],
      "metadata": {
        "id": "zO6WVTQT_JIh"
      }
    },
    {
      "cell_type": "code",
      "source": [
        "file_path = '/content/BTM_hourly.csv'\n",
        "df = pd.read_csv(file_path)\n",
        "df=df.apply(pd.to_numeric,errors='coerce')"
      ],
      "metadata": {
        "id": "ARh-2wZV_SDW"
      },
      "execution_count": null,
      "outputs": []
    },
    {
      "cell_type": "code",
      "source": [
        "df.describe"
      ],
      "metadata": {
        "colab": {
          "base_uri": "https://localhost:8080/"
        },
        "id": "mLEX6F4f_Zz8",
        "outputId": "c8d52d4a-d96f-4ce5-cf3f-0a7f4169cff3"
      },
      "execution_count": null,
      "outputs": [
        {
          "output_type": "execute_result",
          "data": {
            "text/plain": [
              "<bound method NDFrame.describe of        PM2.5   PM10     NO    NO2    NOx    NH3    SO2    CO  Ozone  Benzene  \\\n",
              "0      26.16  51.35  12.02  15.63  36.59  11.20  14.36  0.74  27.03     0.41   \n",
              "1      28.46  56.15  12.37  15.70  35.90  11.19  13.82  0.74  27.23     0.43   \n",
              "2      23.87  46.53  11.68  16.48  36.20  11.37  13.56  0.74  27.98     0.41   \n",
              "3      26.49  52.02  12.07  15.87  37.06  11.33  12.32  0.74  27.30     0.41   \n",
              "4      24.66  48.19  11.80  16.07  35.90  11.57  12.73  0.74  27.34     0.41   \n",
              "...      ...    ...    ...    ...    ...    ...    ...   ...    ...      ...   \n",
              "10700  -0.12    NaN    NaN    NaN    NaN    NaN    NaN   NaN    NaN      NaN   \n",
              "10701  -0.11    NaN    NaN    NaN    NaN    NaN    NaN   NaN    NaN      NaN   \n",
              "10702  -0.11    NaN    NaN    NaN    NaN    NaN    NaN   NaN    NaN      NaN   \n",
              "10703  -0.11    NaN    NaN    NaN    NaN    NaN    NaN   NaN    NaN      NaN   \n",
              "10704  -0.11    NaN    NaN    NaN    NaN    NaN    NaN   NaN    NaN      NaN   \n",
              "\n",
              "       Toluene  Eth-Benzene  MP-Xylene  O-Xylene  Temp     RH  WS  WD     SR  \\\n",
              "0         1.43         1.68       0.91       NaN   NaN  82.03 NaN NaN  24.84   \n",
              "1         1.45         1.69       0.87       NaN   NaN  87.23 NaN NaN  23.62   \n",
              "2         1.46         1.65       0.89       NaN   NaN  89.23 NaN NaN  22.83   \n",
              "3         1.44         1.71       0.86       NaN   NaN  89.25 NaN NaN  23.75   \n",
              "4         1.47         1.69       0.89       NaN   NaN  89.25 NaN NaN  24.12   \n",
              "...        ...          ...        ...       ...   ...    ...  ..  ..    ...   \n",
              "10700      NaN          NaN        NaN       NaN   NaN    NaN NaN NaN    NaN   \n",
              "10701      NaN          NaN        NaN       NaN   NaN    NaN NaN NaN    NaN   \n",
              "10702      NaN          NaN        NaN       NaN   NaN    NaN NaN NaN    NaN   \n",
              "10703      NaN          NaN        NaN       NaN   NaN    NaN NaN NaN    NaN   \n",
              "10704      NaN          NaN        NaN       NaN   NaN    NaN NaN NaN    NaN   \n",
              "\n",
              "           BP  \n",
              "0      775.05  \n",
              "1      775.00  \n",
              "2      775.00  \n",
              "3      775.00  \n",
              "4      775.02  \n",
              "...       ...  \n",
              "10700     NaN  \n",
              "10701     NaN  \n",
              "10702     NaN  \n",
              "10703     NaN  \n",
              "10704     NaN  \n",
              "\n",
              "[10705 rows x 20 columns]>"
            ]
          },
          "metadata": {},
          "execution_count": 90
        }
      ]
    },
    {
      "cell_type": "code",
      "source": [
        "df.shape"
      ],
      "metadata": {
        "colab": {
          "base_uri": "https://localhost:8080/"
        },
        "id": "g3PEGVyo_diN",
        "outputId": "5f7a1105-f335-432c-9bfe-6c9a9eccf4b5"
      },
      "execution_count": null,
      "outputs": [
        {
          "output_type": "execute_result",
          "data": {
            "text/plain": [
              "(10705, 20)"
            ]
          },
          "metadata": {},
          "execution_count": 91
        }
      ]
    },
    {
      "cell_type": "markdown",
      "source": [
        "# Replace 'None' values with actual NaN values for easier handling"
      ],
      "metadata": {
        "id": "inTdbyAp_kOn"
      }
    },
    {
      "cell_type": "code",
      "source": [
        "df.replace('None', pd.NA, inplace=True)"
      ],
      "metadata": {
        "id": "IPVYdKPK_mg9"
      },
      "execution_count": null,
      "outputs": []
    },
    {
      "cell_type": "markdown",
      "source": [
        "# Separating features and target variable"
      ],
      "metadata": {
        "id": "RJSInegq_sHi"
      }
    },
    {
      "cell_type": "code",
      "source": [
        "X = df.drop('PM2.5', axis=1)  # Features\n",
        "y = df['PM2.5']  # Target variable"
      ],
      "metadata": {
        "id": "Tfya0H34_xDs"
      },
      "execution_count": null,
      "outputs": []
    },
    {
      "cell_type": "markdown",
      "source": [
        "# Creating SimpleImputer instance to impute missing values with the mean"
      ],
      "metadata": {
        "id": "qgjF62aL_yqS"
      }
    },
    {
      "cell_type": "code",
      "source": [
        "imputer = SimpleImputer(strategy='mean')"
      ],
      "metadata": {
        "id": "k4j7I63U_3L4"
      },
      "execution_count": null,
      "outputs": []
    },
    {
      "cell_type": "markdown",
      "source": [
        "# Creating SimpleImputer instance to impute missing values with the mean for y"
      ],
      "metadata": {
        "id": "FW-VHnf9_6Y0"
      }
    },
    {
      "cell_type": "code",
      "source": [
        "imputer_y = SimpleImputer(strategy='mean')"
      ],
      "metadata": {
        "id": "gFAeW39J92Fu"
      },
      "execution_count": null,
      "outputs": []
    },
    {
      "cell_type": "markdown",
      "source": [
        "# Impute missing values in the features\n"
      ],
      "metadata": {
        "id": "xvt4-ra3ACvt"
      }
    },
    {
      "cell_type": "code",
      "source": [
        "X_imputed = imputer.fit_transform(X)"
      ],
      "metadata": {
        "id": "qoGbiZMzAFmA"
      },
      "execution_count": null,
      "outputs": []
    },
    {
      "cell_type": "markdown",
      "source": [
        "# Reshape y to a 2D array\n"
      ],
      "metadata": {
        "id": "On5EGS5UAKCV"
      }
    },
    {
      "cell_type": "code",
      "source": [
        "y = y.values.reshape(-1, 1)\n",
        "y_imputed = imputer_y.fit_transform(y)"
      ],
      "metadata": {
        "id": "bF9fIW5UAMxn"
      },
      "execution_count": null,
      "outputs": []
    },
    {
      "cell_type": "markdown",
      "source": [
        "\n",
        "# Splitting the dataset into training and testing sets"
      ],
      "metadata": {
        "id": "1l1N8SqgAQFT"
      }
    },
    {
      "cell_type": "code",
      "source": [
        "X_train, X_test, y_train, y_test = train_test_split(X_imputed, y_imputed, test_size=0.2, random_state=42)"
      ],
      "metadata": {
        "id": "95hdnbsrATVY"
      },
      "execution_count": null,
      "outputs": []
    },
    {
      "cell_type": "markdown",
      "source": [
        "#Defining knn regressor model"
      ],
      "metadata": {
        "id": "uK25oltKAW8b"
      }
    },
    {
      "cell_type": "code",
      "source": [
        "knn_regressor = KNeighborsRegressor(n_neighbors=3)\n",
        "knn_regressor.fit(X_train, y_train)"
      ],
      "metadata": {
        "colab": {
          "base_uri": "https://localhost:8080/",
          "height": 74
        },
        "id": "TnNoFPb8-T0V",
        "outputId": "6c5acb63-47ed-454a-d2e6-7bd389b70e6b"
      },
      "execution_count": null,
      "outputs": [
        {
          "output_type": "execute_result",
          "data": {
            "text/plain": [
              "KNeighborsRegressor(n_neighbors=3)"
            ],
            "text/html": [
              "<style>#sk-container-id-11 {color: black;background-color: white;}#sk-container-id-11 pre{padding: 0;}#sk-container-id-11 div.sk-toggleable {background-color: white;}#sk-container-id-11 label.sk-toggleable__label {cursor: pointer;display: block;width: 100%;margin-bottom: 0;padding: 0.3em;box-sizing: border-box;text-align: center;}#sk-container-id-11 label.sk-toggleable__label-arrow:before {content: \"▸\";float: left;margin-right: 0.25em;color: #696969;}#sk-container-id-11 label.sk-toggleable__label-arrow:hover:before {color: black;}#sk-container-id-11 div.sk-estimator:hover label.sk-toggleable__label-arrow:before {color: black;}#sk-container-id-11 div.sk-toggleable__content {max-height: 0;max-width: 0;overflow: hidden;text-align: left;background-color: #f0f8ff;}#sk-container-id-11 div.sk-toggleable__content pre {margin: 0.2em;color: black;border-radius: 0.25em;background-color: #f0f8ff;}#sk-container-id-11 input.sk-toggleable__control:checked~div.sk-toggleable__content {max-height: 200px;max-width: 100%;overflow: auto;}#sk-container-id-11 input.sk-toggleable__control:checked~label.sk-toggleable__label-arrow:before {content: \"▾\";}#sk-container-id-11 div.sk-estimator input.sk-toggleable__control:checked~label.sk-toggleable__label {background-color: #d4ebff;}#sk-container-id-11 div.sk-label input.sk-toggleable__control:checked~label.sk-toggleable__label {background-color: #d4ebff;}#sk-container-id-11 input.sk-hidden--visually {border: 0;clip: rect(1px 1px 1px 1px);clip: rect(1px, 1px, 1px, 1px);height: 1px;margin: -1px;overflow: hidden;padding: 0;position: absolute;width: 1px;}#sk-container-id-11 div.sk-estimator {font-family: monospace;background-color: #f0f8ff;border: 1px dotted black;border-radius: 0.25em;box-sizing: border-box;margin-bottom: 0.5em;}#sk-container-id-11 div.sk-estimator:hover {background-color: #d4ebff;}#sk-container-id-11 div.sk-parallel-item::after {content: \"\";width: 100%;border-bottom: 1px solid gray;flex-grow: 1;}#sk-container-id-11 div.sk-label:hover label.sk-toggleable__label {background-color: #d4ebff;}#sk-container-id-11 div.sk-serial::before {content: \"\";position: absolute;border-left: 1px solid gray;box-sizing: border-box;top: 0;bottom: 0;left: 50%;z-index: 0;}#sk-container-id-11 div.sk-serial {display: flex;flex-direction: column;align-items: center;background-color: white;padding-right: 0.2em;padding-left: 0.2em;position: relative;}#sk-container-id-11 div.sk-item {position: relative;z-index: 1;}#sk-container-id-11 div.sk-parallel {display: flex;align-items: stretch;justify-content: center;background-color: white;position: relative;}#sk-container-id-11 div.sk-item::before, #sk-container-id-11 div.sk-parallel-item::before {content: \"\";position: absolute;border-left: 1px solid gray;box-sizing: border-box;top: 0;bottom: 0;left: 50%;z-index: -1;}#sk-container-id-11 div.sk-parallel-item {display: flex;flex-direction: column;z-index: 1;position: relative;background-color: white;}#sk-container-id-11 div.sk-parallel-item:first-child::after {align-self: flex-end;width: 50%;}#sk-container-id-11 div.sk-parallel-item:last-child::after {align-self: flex-start;width: 50%;}#sk-container-id-11 div.sk-parallel-item:only-child::after {width: 0;}#sk-container-id-11 div.sk-dashed-wrapped {border: 1px dashed gray;margin: 0 0.4em 0.5em 0.4em;box-sizing: border-box;padding-bottom: 0.4em;background-color: white;}#sk-container-id-11 div.sk-label label {font-family: monospace;font-weight: bold;display: inline-block;line-height: 1.2em;}#sk-container-id-11 div.sk-label-container {text-align: center;}#sk-container-id-11 div.sk-container {/* jupyter's `normalize.less` sets `[hidden] { display: none; }` but bootstrap.min.css set `[hidden] { display: none !important; }` so we also need the `!important` here to be able to override the default hidden behavior on the sphinx rendered scikit-learn.org. See: https://github.com/scikit-learn/scikit-learn/issues/21755 */display: inline-block !important;position: relative;}#sk-container-id-11 div.sk-text-repr-fallback {display: none;}</style><div id=\"sk-container-id-11\" class=\"sk-top-container\"><div class=\"sk-text-repr-fallback\"><pre>KNeighborsRegressor(n_neighbors=3)</pre><b>In a Jupyter environment, please rerun this cell to show the HTML representation or trust the notebook. <br />On GitHub, the HTML representation is unable to render, please try loading this page with nbviewer.org.</b></div><div class=\"sk-container\" hidden><div class=\"sk-item\"><div class=\"sk-estimator sk-toggleable\"><input class=\"sk-toggleable__control sk-hidden--visually\" id=\"sk-estimator-id-11\" type=\"checkbox\" checked><label for=\"sk-estimator-id-11\" class=\"sk-toggleable__label sk-toggleable__label-arrow\">KNeighborsRegressor</label><div class=\"sk-toggleable__content\"><pre>KNeighborsRegressor(n_neighbors=3)</pre></div></div></div></div></div>"
            ]
          },
          "metadata": {},
          "execution_count": 99
        }
      ]
    },
    {
      "cell_type": "markdown",
      "source": [
        "# Model testing"
      ],
      "metadata": {
        "id": "iFe_TnyCAdd3"
      }
    },
    {
      "cell_type": "code",
      "source": [
        "y_pred = knn_regressor.predict(X_test)"
      ],
      "metadata": {
        "id": "r2uC2Tqe-mDw"
      },
      "execution_count": null,
      "outputs": []
    },
    {
      "cell_type": "markdown",
      "source": [
        "#Model evaluation"
      ],
      "metadata": {
        "id": "2PzwDR7tAhiy"
      }
    },
    {
      "cell_type": "code",
      "source": [
        "mse = mean_squared_error(y_test, y_pred)\n",
        "print(f'Mean Squared Error: {mse}')"
      ],
      "metadata": {
        "colab": {
          "base_uri": "https://localhost:8080/"
        },
        "id": "2h-gV80j-yJt",
        "outputId": "e18ffd1a-9c91-496a-df69-a02f8328f266"
      },
      "execution_count": null,
      "outputs": [
        {
          "output_type": "stream",
          "name": "stdout",
          "text": [
            "Mean Squared Error: 37.30028594920226\n"
          ]
        }
      ]
    },
    {
      "cell_type": "code",
      "source": [
        "from sklearn.metrics import r2_score\n",
        "\n",
        "# Assuming 'y_test' and 'y_pred' are your true and predicted values\n",
        "r_squared = r2_score(y_test, y_pred)\n",
        "print(f'R-squared: {r_squared}')"
      ],
      "metadata": {
        "colab": {
          "base_uri": "https://localhost:8080/"
        },
        "id": "MFrVxztQ-8sD",
        "outputId": "f90c28e8-03ef-4a68-ed0c-b82b18899a0c"
      },
      "execution_count": null,
      "outputs": [
        {
          "output_type": "stream",
          "name": "stdout",
          "text": [
            "R-squared: 0.8878340178188752\n"
          ]
        }
      ]
    },
    {
      "cell_type": "code",
      "source": [
        "rmse = np.sqrt(mse)\n",
        "print(f'Root Mean Squared Error (RMSE): {rmse}')"
      ],
      "metadata": {
        "colab": {
          "base_uri": "https://localhost:8080/"
        },
        "id": "D8T7eDLGEL68",
        "outputId": "01fc37e1-3928-40f4-c114-4fe4245befbc"
      },
      "execution_count": null,
      "outputs": [
        {
          "output_type": "stream",
          "name": "stdout",
          "text": [
            "Root Mean Squared Error (RMSE): 6.107396003961284\n"
          ]
        }
      ]
    },
    {
      "cell_type": "code",
      "source": [
        "y_pred = knn_regressor.predict(X_test)\n",
        "\n",
        "# Create a DataFrame to compare actual and predicted values\n",
        "comparison_df = pd.DataFrame({'Actual': y_test.flatten(), 'Predicted': y_pred.flatten()})\n",
        "\n",
        "# Print the DataFrame\n",
        "print(comparison_df)\n",
        "\n",
        "# Plot a scatter plot to visualize the comparison\n",
        "plt.scatter(y_test, y_pred)\n",
        "plt.xlabel('Actual PM2.5')\n",
        "plt.ylabel('Predicted PM2.5')\n",
        "plt.title('Actual vs. Predicted PM2.5 Values')\n",
        "plt.show()"
      ],
      "metadata": {
        "colab": {
          "base_uri": "https://localhost:8080/",
          "height": 715
        },
        "id": "tMZkL3E5FHtn",
        "outputId": "eb524038-c881-4934-bffd-35b32334002b"
      },
      "execution_count": null,
      "outputs": [
        {
          "output_type": "stream",
          "name": "stdout",
          "text": [
            "         Actual  Predicted\n",
            "0     16.860000  14.886667\n",
            "1     24.720000  22.533333\n",
            "2     11.862167  13.868112\n",
            "3     11.862167  -0.130000\n",
            "4     27.060000  19.750722\n",
            "...         ...        ...\n",
            "2136  19.390000  19.310000\n",
            "2137  -0.090000  -0.130000\n",
            "2138  -0.190000  -0.130000\n",
            "2139  47.840000  43.966667\n",
            "2140   0.010000  -0.130000\n",
            "\n",
            "[2141 rows x 2 columns]\n"
          ]
        },
        {
          "output_type": "display_data",
          "data": {
            "text/plain": [
              "<Figure size 640x480 with 1 Axes>"
            ],
            "image/png": "[encoded data removed]"
          },
          "metadata": {}
        }
      ]
    }
  ]
}